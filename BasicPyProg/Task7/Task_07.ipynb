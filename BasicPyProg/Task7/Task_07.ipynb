{
  "cells": [
    {
      "cell_type": "markdown",
      "id": "5307438e",
      "metadata": {
        "id": "5307438e"
      },
      "source": [
        "# Descriptive Statistics and Python Implementation:"
      ]
    },
    {
      "cell_type": "code",
      "execution_count": 2,
      "id": "adfb91d9",
      "metadata": {
        "id": "adfb91d9"
      },
      "outputs": [],
      "source": [
        "# importing important modules\n",
        "import pandas as pd\n",
        "import numpy as np\n",
        "import matplotlib.pyplot as plt\n",
        "import scipy.stats as stats\n",
        "%matplotlib inline\n",
        "import seaborn as sns\n",
        "import warnings\n",
        "import statsmodels.api as sm\n",
        "import pylab as py\n",
        "warnings.filterwarnings('ignore')"
      ]
    },
    {
      "cell_type": "code",
      "source": [
        "from google.colab import drive\n",
        "drive.mount('/drive')"
      ],
      "metadata": {
        "colab": {
          "base_uri": "https://localhost:8080/"
        },
        "id": "aSb7HrXOe-nh",
        "outputId": "2ea00082-55d1-40ae-891e-73183b0c5ae1"
      },
      "id": "aSb7HrXOe-nh",
      "execution_count": 3,
      "outputs": [
        {
          "output_type": "stream",
          "name": "stdout",
          "text": [
            "Mounted at /drive\n"
          ]
        }
      ]
    },
    {
      "cell_type": "code",
      "execution_count": 4,
      "id": "9131839f",
      "metadata": {
        "id": "9131839f"
      },
      "outputs": [],
      "source": [
        "# reading data\n",
        "data = pd.read_csv(\"/drive/My Drive/Colab Notebooks/Stats/data.csv\")"
      ]
    },
    {
      "cell_type": "code",
      "execution_count": 5,
      "id": "37b42aa5",
      "metadata": {
        "colab": {
          "base_uri": "https://localhost:8080/",
          "height": 206
        },
        "id": "37b42aa5",
        "outputId": "e79191c9-865c-4d25-e67e-353ff132584b"
      },
      "outputs": [
        {
          "output_type": "execute_result",
          "data": {
            "text/plain": [
              "   Mthly_HH_Income  Mthly_HH_Expense  No_of_Fly_Members  Emi_or_Rent_Amt  \\\n",
              "0             5000              8000                  3             2000   \n",
              "1             6000              7000                  2             3000   \n",
              "2            10000              4500                  2                0   \n",
              "3            10000              2000                  1                0   \n",
              "4            12500             12000                  2             3000   \n",
              "\n",
              "   Annual_HH_Income Highest_Qualified_Member  No_of_Earning_Members  \n",
              "0             64200           Under-Graduate                      1  \n",
              "1             79920               Illiterate                      1  \n",
              "2            112800           Under-Graduate                      1  \n",
              "3             97200               Illiterate                      1  \n",
              "4            147000                 Graduate                      1  "
            ],
            "text/html": [
              "\n",
              "  <div id=\"df-1ff8e1cd-1e42-4ca7-9319-06657639b40b\">\n",
              "    <div class=\"colab-df-container\">\n",
              "      <div>\n",
              "<style scoped>\n",
              "    .dataframe tbody tr th:only-of-type {\n",
              "        vertical-align: middle;\n",
              "    }\n",
              "\n",
              "    .dataframe tbody tr th {\n",
              "        vertical-align: top;\n",
              "    }\n",
              "\n",
              "    .dataframe thead th {\n",
              "        text-align: right;\n",
              "    }\n",
              "</style>\n",
              "<table border=\"1\" class=\"dataframe\">\n",
              "  <thead>\n",
              "    <tr style=\"text-align: right;\">\n",
              "      <th></th>\n",
              "      <th>Mthly_HH_Income</th>\n",
              "      <th>Mthly_HH_Expense</th>\n",
              "      <th>No_of_Fly_Members</th>\n",
              "      <th>Emi_or_Rent_Amt</th>\n",
              "      <th>Annual_HH_Income</th>\n",
              "      <th>Highest_Qualified_Member</th>\n",
              "      <th>No_of_Earning_Members</th>\n",
              "    </tr>\n",
              "  </thead>\n",
              "  <tbody>\n",
              "    <tr>\n",
              "      <th>0</th>\n",
              "      <td>5000</td>\n",
              "      <td>8000</td>\n",
              "      <td>3</td>\n",
              "      <td>2000</td>\n",
              "      <td>64200</td>\n",
              "      <td>Under-Graduate</td>\n",
              "      <td>1</td>\n",
              "    </tr>\n",
              "    <tr>\n",
              "      <th>1</th>\n",
              "      <td>6000</td>\n",
              "      <td>7000</td>\n",
              "      <td>2</td>\n",
              "      <td>3000</td>\n",
              "      <td>79920</td>\n",
              "      <td>Illiterate</td>\n",
              "      <td>1</td>\n",
              "    </tr>\n",
              "    <tr>\n",
              "      <th>2</th>\n",
              "      <td>10000</td>\n",
              "      <td>4500</td>\n",
              "      <td>2</td>\n",
              "      <td>0</td>\n",
              "      <td>112800</td>\n",
              "      <td>Under-Graduate</td>\n",
              "      <td>1</td>\n",
              "    </tr>\n",
              "    <tr>\n",
              "      <th>3</th>\n",
              "      <td>10000</td>\n",
              "      <td>2000</td>\n",
              "      <td>1</td>\n",
              "      <td>0</td>\n",
              "      <td>97200</td>\n",
              "      <td>Illiterate</td>\n",
              "      <td>1</td>\n",
              "    </tr>\n",
              "    <tr>\n",
              "      <th>4</th>\n",
              "      <td>12500</td>\n",
              "      <td>12000</td>\n",
              "      <td>2</td>\n",
              "      <td>3000</td>\n",
              "      <td>147000</td>\n",
              "      <td>Graduate</td>\n",
              "      <td>1</td>\n",
              "    </tr>\n",
              "  </tbody>\n",
              "</table>\n",
              "</div>\n",
              "      <button class=\"colab-df-convert\" onclick=\"convertToInteractive('df-1ff8e1cd-1e42-4ca7-9319-06657639b40b')\"\n",
              "              title=\"Convert this dataframe to an interactive table.\"\n",
              "              style=\"display:none;\">\n",
              "        \n",
              "  <svg xmlns=\"http://www.w3.org/2000/svg\" height=\"24px\"viewBox=\"0 0 24 24\"\n",
              "       width=\"24px\">\n",
              "    <path d=\"M0 0h24v24H0V0z\" fill=\"none\"/>\n",
              "    <path d=\"M18.56 5.44l.94 2.06.94-2.06 2.06-.94-2.06-.94-.94-2.06-.94 2.06-2.06.94zm-11 1L8.5 8.5l.94-2.06 2.06-.94-2.06-.94L8.5 2.5l-.94 2.06-2.06.94zm10 10l.94 2.06.94-2.06 2.06-.94-2.06-.94-.94-2.06-.94 2.06-2.06.94z\"/><path d=\"M17.41 7.96l-1.37-1.37c-.4-.4-.92-.59-1.43-.59-.52 0-1.04.2-1.43.59L10.3 9.45l-7.72 7.72c-.78.78-.78 2.05 0 2.83L4 21.41c.39.39.9.59 1.41.59.51 0 1.02-.2 1.41-.59l7.78-7.78 2.81-2.81c.8-.78.8-2.07 0-2.86zM5.41 20L4 18.59l7.72-7.72 1.47 1.35L5.41 20z\"/>\n",
              "  </svg>\n",
              "      </button>\n",
              "      \n",
              "  <style>\n",
              "    .colab-df-container {\n",
              "      display:flex;\n",
              "      flex-wrap:wrap;\n",
              "      gap: 12px;\n",
              "    }\n",
              "\n",
              "    .colab-df-convert {\n",
              "      background-color: #E8F0FE;\n",
              "      border: none;\n",
              "      border-radius: 50%;\n",
              "      cursor: pointer;\n",
              "      display: none;\n",
              "      fill: #1967D2;\n",
              "      height: 32px;\n",
              "      padding: 0 0 0 0;\n",
              "      width: 32px;\n",
              "    }\n",
              "\n",
              "    .colab-df-convert:hover {\n",
              "      background-color: #E2EBFA;\n",
              "      box-shadow: 0px 1px 2px rgba(60, 64, 67, 0.3), 0px 1px 3px 1px rgba(60, 64, 67, 0.15);\n",
              "      fill: #174EA6;\n",
              "    }\n",
              "\n",
              "    [theme=dark] .colab-df-convert {\n",
              "      background-color: #3B4455;\n",
              "      fill: #D2E3FC;\n",
              "    }\n",
              "\n",
              "    [theme=dark] .colab-df-convert:hover {\n",
              "      background-color: #434B5C;\n",
              "      box-shadow: 0px 1px 3px 1px rgba(0, 0, 0, 0.15);\n",
              "      filter: drop-shadow(0px 1px 2px rgba(0, 0, 0, 0.3));\n",
              "      fill: #FFFFFF;\n",
              "    }\n",
              "  </style>\n",
              "\n",
              "      <script>\n",
              "        const buttonEl =\n",
              "          document.querySelector('#df-1ff8e1cd-1e42-4ca7-9319-06657639b40b button.colab-df-convert');\n",
              "        buttonEl.style.display =\n",
              "          google.colab.kernel.accessAllowed ? 'block' : 'none';\n",
              "\n",
              "        async function convertToInteractive(key) {\n",
              "          const element = document.querySelector('#df-1ff8e1cd-1e42-4ca7-9319-06657639b40b');\n",
              "          const dataTable =\n",
              "            await google.colab.kernel.invokeFunction('convertToInteractive',\n",
              "                                                     [key], {});\n",
              "          if (!dataTable) return;\n",
              "\n",
              "          const docLinkHtml = 'Like what you see? Visit the ' +\n",
              "            '<a target=\"_blank\" href=https://colab.research.google.com/notebooks/data_table.ipynb>data table notebook</a>'\n",
              "            + ' to learn more about interactive tables.';\n",
              "          element.innerHTML = '';\n",
              "          dataTable['output_type'] = 'display_data';\n",
              "          await google.colab.output.renderOutput(dataTable, element);\n",
              "          const docLink = document.createElement('div');\n",
              "          docLink.innerHTML = docLinkHtml;\n",
              "          element.appendChild(docLink);\n",
              "        }\n",
              "      </script>\n",
              "    </div>\n",
              "  </div>\n",
              "  "
            ]
          },
          "metadata": {},
          "execution_count": 5
        }
      ],
      "source": [
        "# first 5 lines of data\n",
        "data.head()"
      ]
    },
    {
      "cell_type": "markdown",
      "id": "2bcd59c7",
      "metadata": {
        "id": "2bcd59c7"
      },
      "source": [
        "## 1) Mean:\n",
        "* Often called as Average.\n",
        "* Mean = $ Σx/n $ , where $ Σx $ is the sum of quantities, while n is the number of quantities."
      ]
    },
    {
      "cell_type": "markdown",
      "id": "fab89ce4",
      "metadata": {
        "id": "fab89ce4"
      },
      "source": [
        "Example without library function: Mean of \"Annual_HH_Income\"."
      ]
    },
    {
      "cell_type": "code",
      "execution_count": 6,
      "id": "eb6d19ea",
      "metadata": {
        "colab": {
          "base_uri": "https://localhost:8080/"
        },
        "id": "eb6d19ea",
        "outputId": "8a68b5dd-9214-481a-995c-45a68164fec9"
      },
      "outputs": [
        {
          "output_type": "execute_result",
          "data": {
            "text/plain": [
              "490019.04"
            ]
          },
          "metadata": {},
          "execution_count": 6
        }
      ],
      "source": [
        "sum(data['Annual_HH_Income'])/len(data['Annual_HH_Income'])"
      ]
    },
    {
      "cell_type": "markdown",
      "id": "d6215339",
      "metadata": {
        "id": "d6215339"
      },
      "source": [
        "Example with library function: Mean of \"Annual_HH_Income\"."
      ]
    },
    {
      "cell_type": "code",
      "execution_count": 7,
      "id": "d643f898",
      "metadata": {
        "colab": {
          "base_uri": "https://localhost:8080/"
        },
        "id": "d643f898",
        "outputId": "910f5ae0-285d-4ddd-a5bb-e3ed62a7896a"
      },
      "outputs": [
        {
          "output_type": "execute_result",
          "data": {
            "text/plain": [
              "490019.04"
            ]
          },
          "metadata": {},
          "execution_count": 7
        }
      ],
      "source": [
        "np.mean(data['Annual_HH_Income'])"
      ]
    },
    {
      "cell_type": "markdown",
      "id": "fd3277fe",
      "metadata": {
        "id": "fd3277fe"
      },
      "source": [
        "<img src=\"mean.jpg\" alt=\"drawing\" style=\"width:400px;\"/>"
      ]
    },
    {
      "cell_type": "markdown",
      "id": "2be6e1fe",
      "metadata": {
        "id": "2be6e1fe"
      },
      "source": [
        "## 2) Median:\n",
        "* Median is nothing but the absolute central value of the data set."
      ]
    },
    {
      "cell_type": "markdown",
      "id": "02a65493",
      "metadata": {
        "id": "02a65493"
      },
      "source": [
        "Example without library function: Mean of \"Annual_HH_Income\"."
      ]
    },
    {
      "cell_type": "code",
      "execution_count": 8,
      "id": "592204d2",
      "metadata": {
        "colab": {
          "base_uri": "https://localhost:8080/"
        },
        "id": "592204d2",
        "outputId": "c5c8e901-e1bd-4896-a191-d6efda8642a3"
      },
      "outputs": [
        {
          "output_type": "stream",
          "name": "stdout",
          "text": [
            "The median of the given numbers Annual_HH_Income is 447420.0\n"
          ]
        }
      ],
      "source": [
        "income = data['Annual_HH_Income'].sort_values().reset_index(drop = True)\n",
        "length = len(income)\n",
        "if length % 2 == 0:\n",
        "    median1 = income[length//2]\n",
        "    median2 = income[length//2 - 1]\n",
        "    median = (median1 + median2)/2\n",
        "else:\n",
        "    median = income[length//2]\n",
        "print(\"The median of the given numbers Annual_HH_Income is\", median)"
      ]
    },
    {
      "cell_type": "markdown",
      "id": "bb431e02",
      "metadata": {
        "id": "bb431e02"
      },
      "source": [
        "Example with library function: Mean of \"Annual_HH_Income\"."
      ]
    },
    {
      "cell_type": "code",
      "execution_count": 9,
      "id": "0669f570",
      "metadata": {
        "colab": {
          "base_uri": "https://localhost:8080/"
        },
        "id": "0669f570",
        "outputId": "1567140a-eff6-4877-f36a-8b8f0cfc9844"
      },
      "outputs": [
        {
          "output_type": "execute_result",
          "data": {
            "text/plain": [
              "447420.0"
            ]
          },
          "metadata": {},
          "execution_count": 9
        }
      ],
      "source": [
        "np.median(data['Annual_HH_Income'])"
      ]
    },
    {
      "cell_type": "markdown",
      "id": "fe4424ae",
      "metadata": {
        "id": "fe4424ae"
      },
      "source": [
        "<img src=\"median.png\" alt=\"drawing\" style=\"width:400px;\"/>"
      ]
    },
    {
      "cell_type": "markdown",
      "id": "c4cc3b4a",
      "metadata": {
        "id": "c4cc3b4a"
      },
      "source": [
        "## 3) Mode:\n",
        "* It is the number which occurs most frequently in the data series.\n",
        "* It is robust and is not generally affected much by addition of a couple of new values."
      ]
    },
    {
      "cell_type": "markdown",
      "id": "5f7f99a2",
      "metadata": {
        "id": "5f7f99a2"
      },
      "source": [
        "Example without library function: Mode of \"Highest_Qualified_Member\"."
      ]
    },
    {
      "cell_type": "code",
      "execution_count": 10,
      "id": "752ca65c",
      "metadata": {
        "colab": {
          "base_uri": "https://localhost:8080/"
        },
        "id": "752ca65c",
        "outputId": "87474a65-8e5e-4ae6-fe32-ccdb106f55ed"
      },
      "outputs": [
        {
          "output_type": "stream",
          "name": "stdout",
          "text": [
            "Graduate\n"
          ]
        }
      ],
      "source": [
        "num_list = data['Highest_Qualified_Member']\n",
        "\n",
        "dic = dict(data['Highest_Qualified_Member'].value_counts())\n",
        "\n",
        "max_value = max(list(dic.values()))\n",
        "mode_val = [num for num, freq in dic.items() if freq == max_value]\n",
        "if len(mode_val) == len(num_list):\n",
        "    print(\"No mode in the list\")\n",
        "else:\n",
        "    print(''.join(map(str, mode_val)))"
      ]
    },
    {
      "cell_type": "markdown",
      "id": "35590ddb",
      "metadata": {
        "id": "35590ddb"
      },
      "source": [
        "Example with library function: Mode of \"Highest_Qualified_Member\"."
      ]
    },
    {
      "cell_type": "code",
      "execution_count": 11,
      "id": "0053aba3",
      "metadata": {
        "colab": {
          "base_uri": "https://localhost:8080/"
        },
        "id": "0053aba3",
        "outputId": "b0f73a90-5309-4d87-be51-f8e22eb7ed20"
      },
      "outputs": [
        {
          "output_type": "execute_result",
          "data": {
            "text/plain": [
              "0    Graduate\n",
              "dtype: object"
            ]
          },
          "metadata": {},
          "execution_count": 11
        }
      ],
      "source": [
        "data['Highest_Qualified_Member'].mode()"
      ]
    },
    {
      "cell_type": "markdown",
      "id": "fed74f2e",
      "metadata": {
        "id": "fed74f2e"
      },
      "source": [
        "<img src=\"mode.jpg\" alt=\"drawing\" style=\"width:400px;\"/>"
      ]
    },
    {
      "cell_type": "markdown",
      "id": "af7dc8d4",
      "metadata": {
        "id": "af7dc8d4"
      },
      "source": [
        "## 4) Variance:\n",
        "* Variance is the average squared deviations from the mean.\n",
        "    * $ σ 2 = ∑(x − \\bar{x} )^2 / 2  $"
      ]
    },
    {
      "cell_type": "markdown",
      "id": "7ee53380",
      "metadata": {
        "id": "7ee53380"
      },
      "source": [
        "Example without library function: Variance of \"Annual_HH_Income\"."
      ]
    },
    {
      "cell_type": "code",
      "execution_count": 12,
      "id": "1c77d13b",
      "metadata": {
        "colab": {
          "base_uri": "https://localhost:8080/"
        },
        "id": "1c77d13b",
        "outputId": "ac6d045d-ec2a-41d4-860c-5b8e2b084549"
      },
      "outputs": [
        {
          "output_type": "stream",
          "name": "stdout",
          "text": [
            "100437186889.9584\n"
          ]
        }
      ],
      "source": [
        "mean = data['Annual_HH_Income'].mean()\n",
        "difference = data['Annual_HH_Income'] - mean\n",
        "squared_difference = difference ** 2\n",
        "variance = squared_difference.mean()\n",
        "print(variance)"
      ]
    },
    {
      "cell_type": "markdown",
      "id": "b65e9c05",
      "metadata": {
        "id": "b65e9c05"
      },
      "source": [
        "Example with library function: Variance of \"Annual_HH_Income\"."
      ]
    },
    {
      "cell_type": "code",
      "execution_count": 13,
      "id": "8c564d7f",
      "metadata": {
        "colab": {
          "base_uri": "https://localhost:8080/"
        },
        "id": "8c564d7f",
        "outputId": "3ba9e493-c4d1-4732-e6a8-c320747261ae"
      },
      "outputs": [
        {
          "output_type": "execute_result",
          "data": {
            "text/plain": [
              "100437186889.9584"
            ]
          },
          "metadata": {},
          "execution_count": 13
        }
      ],
      "source": [
        "data['Annual_HH_Income'].var(ddof = 0)"
      ]
    },
    {
      "cell_type": "markdown",
      "id": "14a7d3fa",
      "metadata": {
        "id": "14a7d3fa"
      },
      "source": [
        "<img src=\"variance.jpg\" alt=\"drawing\" style=\"width:500px;\"/>"
      ]
    },
    {
      "cell_type": "markdown",
      "id": "9c16638e",
      "metadata": {
        "id": "9c16638e"
      },
      "source": [
        "## 5) Standard Deviation:\n",
        "* The standard deviation (SD), also represented by the Greek letter sigma σ or the Latin letter (s) is a measure that is used to quantify the amount of variation or dispersion of a set of data values.\n",
        "* $ \\sigma = \\sqrt {\\mu _2 } $"
      ]
    },
    {
      "cell_type": "markdown",
      "id": "843aef0f",
      "metadata": {
        "id": "843aef0f"
      },
      "source": [
        "Example without library function: Standard Deviation of \"Annual_HH_Income\"."
      ]
    },
    {
      "cell_type": "code",
      "execution_count": 14,
      "id": "3f20378e",
      "metadata": {
        "colab": {
          "base_uri": "https://localhost:8080/"
        },
        "id": "3f20378e",
        "outputId": "435cbf63-7c60-4009-9f20-286a62e48b7c"
      },
      "outputs": [
        {
          "output_type": "stream",
          "name": "stdout",
          "text": [
            "316918.2653145104\n"
          ]
        }
      ],
      "source": [
        "mean = data['Annual_HH_Income'].mean()\n",
        "difference = data['Annual_HH_Income'] - mean\n",
        "squared_difference = difference ** 2\n",
        "variance = squared_difference.mean()\n",
        "standard_deviation = variance ** (1/2)\n",
        "print(standard_deviation)"
      ]
    },
    {
      "cell_type": "markdown",
      "id": "d76c8004",
      "metadata": {
        "id": "d76c8004"
      },
      "source": [
        "Example with library function: Standard Deviation of \"Annual_HH_Income\"."
      ]
    },
    {
      "cell_type": "code",
      "execution_count": 15,
      "id": "beeba61d",
      "metadata": {
        "colab": {
          "base_uri": "https://localhost:8080/"
        },
        "id": "beeba61d",
        "outputId": "4d9d7a47-7b20-4b49-e46a-7b504e2a8ec7"
      },
      "outputs": [
        {
          "output_type": "execute_result",
          "data": {
            "text/plain": [
              "316918.2653145104"
            ]
          },
          "metadata": {},
          "execution_count": 15
        }
      ],
      "source": [
        "data['Annual_HH_Income'].std(ddof = 0)"
      ]
    },
    {
      "cell_type": "markdown",
      "id": "8e82ada0",
      "metadata": {
        "id": "8e82ada0"
      },
      "source": [
        "<img src=\"standard_deviation.png\" alt=\"drawing\" style=\"width:400px;\"/>"
      ]
    },
    {
      "cell_type": "markdown",
      "id": "ce8b3afc",
      "metadata": {
        "id": "ce8b3afc"
      },
      "source": [
        "## 6) Correlation:\n",
        "* It is used to determine the relationships between two variables.\n",
        "* Correlation Coefficient is denoted by r.\n",
        "* The value ranges from -1 to 1. Here, 0 means no Correlation Coefficient.\n",
        "* $ r = n (∑xy) – ∑x ∑y / √ [n* (∑x2 – (∑x)2)] * [n* (∑y2 – (∑y)2)] $"
      ]
    },
    {
      "cell_type": "code",
      "execution_count": 16,
      "id": "323594ef",
      "metadata": {
        "colab": {
          "base_uri": "https://localhost:8080/",
          "height": 0
        },
        "id": "323594ef",
        "outputId": "fc5dff61-9282-45f0-bb90-d37f3595e936"
      },
      "outputs": [
        {
          "output_type": "execute_result",
          "data": {
            "text/plain": [
              "                       Mthly_HH_Income  Mthly_HH_Expense  No_of_Fly_Members  \\\n",
              "Mthly_HH_Income               1.000000          0.649215           0.448317   \n",
              "Mthly_HH_Expense              0.649215          1.000000           0.639702   \n",
              "No_of_Fly_Members             0.448317          0.639702           1.000000   \n",
              "Emi_or_Rent_Amt               0.036976          0.405280           0.085808   \n",
              "Annual_HH_Income              0.970315          0.591222           0.430868   \n",
              "No_of_Earning_Members         0.347883          0.311915           0.597482   \n",
              "\n",
              "                       Emi_or_Rent_Amt  Annual_HH_Income  \\\n",
              "Mthly_HH_Income               0.036976          0.970315   \n",
              "Mthly_HH_Expense              0.405280          0.591222   \n",
              "No_of_Fly_Members             0.085808          0.430868   \n",
              "Emi_or_Rent_Amt               1.000000          0.002716   \n",
              "Annual_HH_Income              0.002716          1.000000   \n",
              "No_of_Earning_Members        -0.097431          0.296679   \n",
              "\n",
              "                       No_of_Earning_Members  \n",
              "Mthly_HH_Income                     0.347883  \n",
              "Mthly_HH_Expense                    0.311915  \n",
              "No_of_Fly_Members                   0.597482  \n",
              "Emi_or_Rent_Amt                    -0.097431  \n",
              "Annual_HH_Income                    0.296679  \n",
              "No_of_Earning_Members               1.000000  "
            ],
            "text/html": [
              "\n",
              "  <div id=\"df-a2ca05f8-9df8-4879-85cb-5844f8c35a29\">\n",
              "    <div class=\"colab-df-container\">\n",
              "      <div>\n",
              "<style scoped>\n",
              "    .dataframe tbody tr th:only-of-type {\n",
              "        vertical-align: middle;\n",
              "    }\n",
              "\n",
              "    .dataframe tbody tr th {\n",
              "        vertical-align: top;\n",
              "    }\n",
              "\n",
              "    .dataframe thead th {\n",
              "        text-align: right;\n",
              "    }\n",
              "</style>\n",
              "<table border=\"1\" class=\"dataframe\">\n",
              "  <thead>\n",
              "    <tr style=\"text-align: right;\">\n",
              "      <th></th>\n",
              "      <th>Mthly_HH_Income</th>\n",
              "      <th>Mthly_HH_Expense</th>\n",
              "      <th>No_of_Fly_Members</th>\n",
              "      <th>Emi_or_Rent_Amt</th>\n",
              "      <th>Annual_HH_Income</th>\n",
              "      <th>No_of_Earning_Members</th>\n",
              "    </tr>\n",
              "  </thead>\n",
              "  <tbody>\n",
              "    <tr>\n",
              "      <th>Mthly_HH_Income</th>\n",
              "      <td>1.000000</td>\n",
              "      <td>0.649215</td>\n",
              "      <td>0.448317</td>\n",
              "      <td>0.036976</td>\n",
              "      <td>0.970315</td>\n",
              "      <td>0.347883</td>\n",
              "    </tr>\n",
              "    <tr>\n",
              "      <th>Mthly_HH_Expense</th>\n",
              "      <td>0.649215</td>\n",
              "      <td>1.000000</td>\n",
              "      <td>0.639702</td>\n",
              "      <td>0.405280</td>\n",
              "      <td>0.591222</td>\n",
              "      <td>0.311915</td>\n",
              "    </tr>\n",
              "    <tr>\n",
              "      <th>No_of_Fly_Members</th>\n",
              "      <td>0.448317</td>\n",
              "      <td>0.639702</td>\n",
              "      <td>1.000000</td>\n",
              "      <td>0.085808</td>\n",
              "      <td>0.430868</td>\n",
              "      <td>0.597482</td>\n",
              "    </tr>\n",
              "    <tr>\n",
              "      <th>Emi_or_Rent_Amt</th>\n",
              "      <td>0.036976</td>\n",
              "      <td>0.405280</td>\n",
              "      <td>0.085808</td>\n",
              "      <td>1.000000</td>\n",
              "      <td>0.002716</td>\n",
              "      <td>-0.097431</td>\n",
              "    </tr>\n",
              "    <tr>\n",
              "      <th>Annual_HH_Income</th>\n",
              "      <td>0.970315</td>\n",
              "      <td>0.591222</td>\n",
              "      <td>0.430868</td>\n",
              "      <td>0.002716</td>\n",
              "      <td>1.000000</td>\n",
              "      <td>0.296679</td>\n",
              "    </tr>\n",
              "    <tr>\n",
              "      <th>No_of_Earning_Members</th>\n",
              "      <td>0.347883</td>\n",
              "      <td>0.311915</td>\n",
              "      <td>0.597482</td>\n",
              "      <td>-0.097431</td>\n",
              "      <td>0.296679</td>\n",
              "      <td>1.000000</td>\n",
              "    </tr>\n",
              "  </tbody>\n",
              "</table>\n",
              "</div>\n",
              "      <button class=\"colab-df-convert\" onclick=\"convertToInteractive('df-a2ca05f8-9df8-4879-85cb-5844f8c35a29')\"\n",
              "              title=\"Convert this dataframe to an interactive table.\"\n",
              "              style=\"display:none;\">\n",
              "        \n",
              "  <svg xmlns=\"http://www.w3.org/2000/svg\" height=\"24px\"viewBox=\"0 0 24 24\"\n",
              "       width=\"24px\">\n",
              "    <path d=\"M0 0h24v24H0V0z\" fill=\"none\"/>\n",
              "    <path d=\"M18.56 5.44l.94 2.06.94-2.06 2.06-.94-2.06-.94-.94-2.06-.94 2.06-2.06.94zm-11 1L8.5 8.5l.94-2.06 2.06-.94-2.06-.94L8.5 2.5l-.94 2.06-2.06.94zm10 10l.94 2.06.94-2.06 2.06-.94-2.06-.94-.94-2.06-.94 2.06-2.06.94z\"/><path d=\"M17.41 7.96l-1.37-1.37c-.4-.4-.92-.59-1.43-.59-.52 0-1.04.2-1.43.59L10.3 9.45l-7.72 7.72c-.78.78-.78 2.05 0 2.83L4 21.41c.39.39.9.59 1.41.59.51 0 1.02-.2 1.41-.59l7.78-7.78 2.81-2.81c.8-.78.8-2.07 0-2.86zM5.41 20L4 18.59l7.72-7.72 1.47 1.35L5.41 20z\"/>\n",
              "  </svg>\n",
              "      </button>\n",
              "      \n",
              "  <style>\n",
              "    .colab-df-container {\n",
              "      display:flex;\n",
              "      flex-wrap:wrap;\n",
              "      gap: 12px;\n",
              "    }\n",
              "\n",
              "    .colab-df-convert {\n",
              "      background-color: #E8F0FE;\n",
              "      border: none;\n",
              "      border-radius: 50%;\n",
              "      cursor: pointer;\n",
              "      display: none;\n",
              "      fill: #1967D2;\n",
              "      height: 32px;\n",
              "      padding: 0 0 0 0;\n",
              "      width: 32px;\n",
              "    }\n",
              "\n",
              "    .colab-df-convert:hover {\n",
              "      background-color: #E2EBFA;\n",
              "      box-shadow: 0px 1px 2px rgba(60, 64, 67, 0.3), 0px 1px 3px 1px rgba(60, 64, 67, 0.15);\n",
              "      fill: #174EA6;\n",
              "    }\n",
              "\n",
              "    [theme=dark] .colab-df-convert {\n",
              "      background-color: #3B4455;\n",
              "      fill: #D2E3FC;\n",
              "    }\n",
              "\n",
              "    [theme=dark] .colab-df-convert:hover {\n",
              "      background-color: #434B5C;\n",
              "      box-shadow: 0px 1px 3px 1px rgba(0, 0, 0, 0.15);\n",
              "      filter: drop-shadow(0px 1px 2px rgba(0, 0, 0, 0.3));\n",
              "      fill: #FFFFFF;\n",
              "    }\n",
              "  </style>\n",
              "\n",
              "      <script>\n",
              "        const buttonEl =\n",
              "          document.querySelector('#df-a2ca05f8-9df8-4879-85cb-5844f8c35a29 button.colab-df-convert');\n",
              "        buttonEl.style.display =\n",
              "          google.colab.kernel.accessAllowed ? 'block' : 'none';\n",
              "\n",
              "        async function convertToInteractive(key) {\n",
              "          const element = document.querySelector('#df-a2ca05f8-9df8-4879-85cb-5844f8c35a29');\n",
              "          const dataTable =\n",
              "            await google.colab.kernel.invokeFunction('convertToInteractive',\n",
              "                                                     [key], {});\n",
              "          if (!dataTable) return;\n",
              "\n",
              "          const docLinkHtml = 'Like what you see? Visit the ' +\n",
              "            '<a target=\"_blank\" href=https://colab.research.google.com/notebooks/data_table.ipynb>data table notebook</a>'\n",
              "            + ' to learn more about interactive tables.';\n",
              "          element.innerHTML = '';\n",
              "          dataTable['output_type'] = 'display_data';\n",
              "          await google.colab.output.renderOutput(dataTable, element);\n",
              "          const docLink = document.createElement('div');\n",
              "          docLink.innerHTML = docLinkHtml;\n",
              "          element.appendChild(docLink);\n",
              "        }\n",
              "      </script>\n",
              "    </div>\n",
              "  </div>\n",
              "  "
            ]
          },
          "metadata": {},
          "execution_count": 16
        }
      ],
      "source": [
        "data.corr()"
      ]
    },
    {
      "cell_type": "code",
      "execution_count": 17,
      "id": "f7bc695a",
      "metadata": {
        "colab": {
          "base_uri": "https://localhost:8080/",
          "height": 0
        },
        "id": "f7bc695a",
        "outputId": "05c39075-15ab-4585-a13b-1b3ffeda0661"
      },
      "outputs": [
        {
          "output_type": "execute_result",
          "data": {
            "text/plain": [
              "<matplotlib.axes._subplots.AxesSubplot at 0x7f6dae1e5210>"
            ]
          },
          "metadata": {},
          "execution_count": 17
        },
        {
          "output_type": "display_data",
          "data": {
            "text/plain": [
              "<Figure size 432x288 with 2 Axes>"
            ],
            "image/png": "[encoded data removed]"
          },
          "metadata": {
            "needs_background": "light"
          }
        }
      ],
      "source": [
        "sns.heatmap(data.corr())"
      ]
    },
    {
      "cell_type": "code",
      "execution_count": 18,
      "id": "b19c2a68",
      "metadata": {
        "colab": {
          "base_uri": "https://localhost:8080/",
          "height": 0
        },
        "id": "b19c2a68",
        "outputId": "840a8f27-8856-4ae4-9f79-359490af0bd1"
      },
      "outputs": [
        {
          "output_type": "execute_result",
          "data": {
            "text/plain": [
              "                  Mthly_HH_Income  Annual_HH_Income\n",
              "Mthly_HH_Income          1.000000          0.970315\n",
              "Annual_HH_Income         0.970315          1.000000"
            ],
            "text/html": [
              "\n",
              "  <div id=\"df-fb22a507-7615-431f-a1cb-8865863bdbf5\">\n",
              "    <div class=\"colab-df-container\">\n",
              "      <div>\n",
              "<style scoped>\n",
              "    .dataframe tbody tr th:only-of-type {\n",
              "        vertical-align: middle;\n",
              "    }\n",
              "\n",
              "    .dataframe tbody tr th {\n",
              "        vertical-align: top;\n",
              "    }\n",
              "\n",
              "    .dataframe thead th {\n",
              "        text-align: right;\n",
              "    }\n",
              "</style>\n",
              "<table border=\"1\" class=\"dataframe\">\n",
              "  <thead>\n",
              "    <tr style=\"text-align: right;\">\n",
              "      <th></th>\n",
              "      <th>Mthly_HH_Income</th>\n",
              "      <th>Annual_HH_Income</th>\n",
              "    </tr>\n",
              "  </thead>\n",
              "  <tbody>\n",
              "    <tr>\n",
              "      <th>Mthly_HH_Income</th>\n",
              "      <td>1.000000</td>\n",
              "      <td>0.970315</td>\n",
              "    </tr>\n",
              "    <tr>\n",
              "      <th>Annual_HH_Income</th>\n",
              "      <td>0.970315</td>\n",
              "      <td>1.000000</td>\n",
              "    </tr>\n",
              "  </tbody>\n",
              "</table>\n",
              "</div>\n",
              "      <button class=\"colab-df-convert\" onclick=\"convertToInteractive('df-fb22a507-7615-431f-a1cb-8865863bdbf5')\"\n",
              "              title=\"Convert this dataframe to an interactive table.\"\n",
              "              style=\"display:none;\">\n",
              "        \n",
              "  <svg xmlns=\"http://www.w3.org/2000/svg\" height=\"24px\"viewBox=\"0 0 24 24\"\n",
              "       width=\"24px\">\n",
              "    <path d=\"M0 0h24v24H0V0z\" fill=\"none\"/>\n",
              "    <path d=\"M18.56 5.44l.94 2.06.94-2.06 2.06-.94-2.06-.94-.94-2.06-.94 2.06-2.06.94zm-11 1L8.5 8.5l.94-2.06 2.06-.94-2.06-.94L8.5 2.5l-.94 2.06-2.06.94zm10 10l.94 2.06.94-2.06 2.06-.94-2.06-.94-.94-2.06-.94 2.06-2.06.94z\"/><path d=\"M17.41 7.96l-1.37-1.37c-.4-.4-.92-.59-1.43-.59-.52 0-1.04.2-1.43.59L10.3 9.45l-7.72 7.72c-.78.78-.78 2.05 0 2.83L4 21.41c.39.39.9.59 1.41.59.51 0 1.02-.2 1.41-.59l7.78-7.78 2.81-2.81c.8-.78.8-2.07 0-2.86zM5.41 20L4 18.59l7.72-7.72 1.47 1.35L5.41 20z\"/>\n",
              "  </svg>\n",
              "      </button>\n",
              "      \n",
              "  <style>\n",
              "    .colab-df-container {\n",
              "      display:flex;\n",
              "      flex-wrap:wrap;\n",
              "      gap: 12px;\n",
              "    }\n",
              "\n",
              "    .colab-df-convert {\n",
              "      background-color: #E8F0FE;\n",
              "      border: none;\n",
              "      border-radius: 50%;\n",
              "      cursor: pointer;\n",
              "      display: none;\n",
              "      fill: #1967D2;\n",
              "      height: 32px;\n",
              "      padding: 0 0 0 0;\n",
              "      width: 32px;\n",
              "    }\n",
              "\n",
              "    .colab-df-convert:hover {\n",
              "      background-color: #E2EBFA;\n",
              "      box-shadow: 0px 1px 2px rgba(60, 64, 67, 0.3), 0px 1px 3px 1px rgba(60, 64, 67, 0.15);\n",
              "      fill: #174EA6;\n",
              "    }\n",
              "\n",
              "    [theme=dark] .colab-df-convert {\n",
              "      background-color: #3B4455;\n",
              "      fill: #D2E3FC;\n",
              "    }\n",
              "\n",
              "    [theme=dark] .colab-df-convert:hover {\n",
              "      background-color: #434B5C;\n",
              "      box-shadow: 0px 1px 3px 1px rgba(0, 0, 0, 0.15);\n",
              "      filter: drop-shadow(0px 1px 2px rgba(0, 0, 0, 0.3));\n",
              "      fill: #FFFFFF;\n",
              "    }\n",
              "  </style>\n",
              "\n",
              "      <script>\n",
              "        const buttonEl =\n",
              "          document.querySelector('#df-fb22a507-7615-431f-a1cb-8865863bdbf5 button.colab-df-convert');\n",
              "        buttonEl.style.display =\n",
              "          google.colab.kernel.accessAllowed ? 'block' : 'none';\n",
              "\n",
              "        async function convertToInteractive(key) {\n",
              "          const element = document.querySelector('#df-fb22a507-7615-431f-a1cb-8865863bdbf5');\n",
              "          const dataTable =\n",
              "            await google.colab.kernel.invokeFunction('convertToInteractive',\n",
              "                                                     [key], {});\n",
              "          if (!dataTable) return;\n",
              "\n",
              "          const docLinkHtml = 'Like what you see? Visit the ' +\n",
              "            '<a target=\"_blank\" href=https://colab.research.google.com/notebooks/data_table.ipynb>data table notebook</a>'\n",
              "            + ' to learn more about interactive tables.';\n",
              "          element.innerHTML = '';\n",
              "          dataTable['output_type'] = 'display_data';\n",
              "          await google.colab.output.renderOutput(dataTable, element);\n",
              "          const docLink = document.createElement('div');\n",
              "          docLink.innerHTML = docLinkHtml;\n",
              "          element.appendChild(docLink);\n",
              "        }\n",
              "      </script>\n",
              "    </div>\n",
              "  </div>\n",
              "  "
            ]
          },
          "metadata": {},
          "execution_count": 18
        }
      ],
      "source": [
        "data[['Mthly_HH_Income', 'Annual_HH_Income']].corr()"
      ]
    },
    {
      "cell_type": "code",
      "execution_count": 19,
      "id": "4f6d45be",
      "metadata": {
        "colab": {
          "base_uri": "https://localhost:8080/",
          "height": 0
        },
        "id": "4f6d45be",
        "outputId": "71fa13a0-acea-42d1-abd3-bbd3e802874f"
      },
      "outputs": [
        {
          "output_type": "execute_result",
          "data": {
            "text/plain": [
              "<matplotlib.axes._subplots.AxesSubplot at 0x7f6dab404110>"
            ]
          },
          "metadata": {},
          "execution_count": 19
        },
        {
          "output_type": "display_data",
          "data": {
            "text/plain": [
              "<Figure size 432x288 with 2 Axes>"
            ],
            "image/png": "[encoded data removed]"
          },
          "metadata": {
            "needs_background": "light"
          }
        }
      ],
      "source": [
        "sns.heatmap(data[['Mthly_HH_Income', 'Annual_HH_Income']].corr())"
      ]
    },
    {
      "cell_type": "markdown",
      "id": "924be225",
      "metadata": {
        "id": "924be225"
      },
      "source": [
        "<img src=\"correlation.png\" alt=\"drawing\" style=\"width:500px;\"/>"
      ]
    },
    {
      "cell_type": "markdown",
      "id": "f4d87efc",
      "metadata": {
        "id": "f4d87efc"
      },
      "source": [
        "## 7) Normal Distribution:\n",
        "* The normal distribution, also known as the Gaussian distribution, is the most important probability distribution in statistics for independent, random variables. Most people recognize its familiar bell-shaped curve in statistical reports.\n",
        "* $ Z=(X- µ)/ α $"
      ]
    },
    {
      "cell_type": "code",
      "execution_count": 20,
      "id": "bc372a40",
      "metadata": {
        "colab": {
          "base_uri": "https://localhost:8080/",
          "height": 293
        },
        "id": "bc372a40",
        "outputId": "d2b252b4-a8ef-4b41-8dae-b575f4dae0fb"
      },
      "outputs": [
        {
          "output_type": "display_data",
          "data": {
            "text/plain": [
              "<Figure size 432x288 with 1 Axes>"
            ],
            "image/png": "[encoded data removed]"
          },
          "metadata": {
            "needs_background": "light"
          }
        }
      ],
      "source": [
        "mean = np.mean(data['Annual_HH_Income'])\n",
        "std = np.std(data['Annual_HH_Income'])\n",
        "\n",
        "pdf = stats.norm.pdf(data['Annual_HH_Income'].sort_values(), mean, std)\n",
        "\n",
        "plt.plot(data[\"Annual_HH_Income\"].sort_values(), pdf, color = 'g')\n",
        "plt.xlabel(\"Income\", size=12)    \n",
        "plt.ylabel(\"Frequency\", size=12)                \n",
        "plt.grid(True, alpha=0.3, linestyle=\"--\")\n",
        "plt.show()"
      ]
    },
    {
      "cell_type": "markdown",
      "id": "0b67aefa",
      "metadata": {
        "id": "0b67aefa"
      },
      "source": [
        "<img src=\"normal_distribution.jpg\" alt=\"drawing\" style=\"width:500px;\"/>"
      ]
    },
    {
      "cell_type": "markdown",
      "id": "80bf5c9f",
      "metadata": {
        "id": "80bf5c9f"
      },
      "source": [
        "## 8) Feature of Normal Distribution:\n",
        "\n",
        "Normal Distribution has the following characteristics that distinguish it from the other forms of probability representations:\n",
        "\n",
        "* Empirical Rule: In a normal distribution, 68% of the observations are confined within -/+ one standard deviation, 95% of the values fall within -/+ two standard deviations, and almost 99.7% of values are confined to -/+ three standard deviations.\n",
        "* Bell-shaped Curve: Most of the values lie at the center, and fewer values lie at the tail extremities. This results in a bell-shaped curve.\n",
        "* Mean and Standard Deviation: This data representation is shaped by mean and standard deviation.\n",
        "* Equal Central Tendencies: The mean, median, and mode of this data are equal.\n",
        "* Symmetric: The normal distribution curve is centrally symmetric. Therefore, half of the values are to the left of the center, and the remaining values appear on the right. \n",
        "* Skewness and Kurtosis: Skewness is the the symmetry. The skewness for a normal distribution is zero. Kurtosis studies the tail of the represented data. For a normal distribution, the kurtosis is 3.\n",
        "* Total Area = 1: The total value of the standard deviation, i.e., the complete area of the curve under this probability function, is one. Also, the entire mean is zero."
      ]
    },
    {
      "cell_type": "markdown",
      "id": "8a9aa287",
      "metadata": {
        "id": "8a9aa287"
      },
      "source": [
        "<img src=\"norm.jpg\" alt=\"drawing\" style=\"width:600px;\"/>"
      ]
    },
    {
      "cell_type": "markdown",
      "id": "c1dbdbb9",
      "metadata": {
        "id": "c1dbdbb9"
      },
      "source": [
        "## 9) Posetively Skewed Normal Distribution:\n",
        "* In statistics, a positively skewed (or right-skewed) distribution is a type of distribution in which most values are clustered around the left tail of the distribution while the right tail of the distribution is longer. The positively skewed distribution is the direct opposite of the negatively skewed distribution."
      ]
    },
    {
      "cell_type": "markdown",
      "id": "601edac2",
      "metadata": {
        "id": "601edac2"
      },
      "source": [
        "<img src=\"positive.png\" alt=\"drawing\" style=\"width:600px;\"/>"
      ]
    },
    {
      "cell_type": "markdown",
      "id": "12ddc393",
      "metadata": {
        "id": "12ddc393"
      },
      "source": [
        "## Negatively Skewed Normal Distribution:\n",
        "* In statistics, a negatively skewed (also known as left-skewed) distribution is a type of distribution in which more values are concentrated on the right side (tail) of the distribution graph while the left tail of the distribution graph is longer."
      ]
    },
    {
      "cell_type": "markdown",
      "id": "ba7e14b9",
      "metadata": {
        "id": "ba7e14b9"
      },
      "source": [
        "<img src=\"negative.png\" alt=\"drawing\" style=\"width:600px;\"/>"
      ]
    },
    {
      "cell_type": "markdown",
      "id": "ec1d5c4c",
      "metadata": {
        "id": "ec1d5c4c"
      },
      "source": [
        "## 10) Effect on Mean, Median and Mode due to Skewness:"
      ]
    },
    {
      "cell_type": "markdown",
      "id": "1cd1162e",
      "metadata": {
        "id": "1cd1162e"
      },
      "source": [
        "* Consider the following data set.\n",
        "\n",
        "4; 5; 6; 6; 6; 7; 7; 7; 7; 7; 7; 8; 8; 8; 9; 10\n",
        "\n",
        "This data set can be represented by following histogram. Each interval has width one, and each value is located in the middle of an interval.\n",
        "\n",
        "Figure 1."
      ]
    },
    {
      "cell_type": "markdown",
      "id": "9394dd3f",
      "metadata": {
        "id": "9394dd3f"
      },
      "source": [
        "<img src=\"symmetrical.jpg\" alt=\"drawing\" style=\"width:600px;\"/>"
      ]
    },
    {
      "cell_type": "markdown",
      "id": "80fa3e43",
      "metadata": {
        "id": "80fa3e43"
      },
      "source": [
        "The histogram displays a symmetrical distribution of data. A distribution is symmetrical if a vertical line can be drawn at some point in the histogram such that the shape to the left and the right of the vertical line are mirror images of each other. The mean, the median, and the mode are each seven for these data. In a perfectly symmetrical distribution, the mean and the median are the same. This example has one mode (unimodal), and the mode is the same as the mean and median. In a symmetrical distribution that has two modes (bimodal), the two modes would be different from the mean and median.\n",
        "\n",
        "The histogram for the data: 4566677778 is not symmetrical. The right-hand side seems “chopped off” compared to the left side. A distribution of this type is called skewed to the left because it is pulled out to the left.\n",
        "\n",
        "Figure 2."
      ]
    },
    {
      "cell_type": "markdown",
      "id": "79f9f51f",
      "metadata": {
        "id": "79f9f51f"
      },
      "source": [
        "<img src=\"left.jpg\" alt=\"drawing\" style=\"width:600px;\"/>"
      ]
    },
    {
      "cell_type": "markdown",
      "id": "5eb0043e",
      "metadata": {
        "id": "5eb0043e"
      },
      "source": [
        "The mean is 6.3, the median is 6.5, and the mode is seven. Notice that the mean is less than the median, and they are both less than the mode. The mean and the median both reflect the skewing, but the mean reflects it more so.\n",
        "\n",
        "The histogram for the data: 67777888910, is also not symmetrical. It is skewed to the right.\n",
        "\n",
        "Figure 3."
      ]
    },
    {
      "cell_type": "markdown",
      "id": "22e25453",
      "metadata": {
        "id": "22e25453"
      },
      "source": [
        "<img src=\"right.jpg\" alt=\"drawing\" style=\"width:600px;\"/>"
      ]
    },
    {
      "cell_type": "markdown",
      "id": "8a5aff2d",
      "metadata": {
        "id": "8a5aff2d"
      },
      "source": [
        "The mean is 7.7, the median is 7.5, and the mode is seven. Of the three statistics, the mean is the largest, while the mode is the smallest. Again, the mean reflects the skewing the most.\n",
        "\n",
        "To summarize, generally if the distribution of data is skewed to the left, the mean is less than the median, which is often less than the mode. If the distribution of data is skewed to the right, the mode is often less than the median, which is less than the mean."
      ]
    },
    {
      "cell_type": "markdown",
      "id": "23e4e8f0",
      "metadata": {
        "id": "23e4e8f0"
      },
      "source": [
        "## 11) Explain QQ Plot and show the implementation of the same:\n",
        "* The quantile-quantile plot is a graphical method for determining whether two samples of data came from the same population or not. A q-q plot is a plot of the quantiles of the first data set against the quantiles of the second data set. By a quantile, we mean the fraction (or percent) of points below the given value. \n",
        "\n",
        "* For the reference purpose, a 45% line is also plotted, if the samples are from the same population then the points are along this line."
      ]
    },
    {
      "cell_type": "code",
      "execution_count": 21,
      "id": "04e0e18c",
      "metadata": {
        "colab": {
          "base_uri": "https://localhost:8080/",
          "height": 279
        },
        "id": "04e0e18c",
        "outputId": "a4a68645-affe-4a29-bee1-7f8ea90e60fa"
      },
      "outputs": [
        {
          "output_type": "display_data",
          "data": {
            "text/plain": [
              "<Figure size 432x288 with 1 Axes>"
            ],
            "image/png": "[encoded data removed]"
          },
          "metadata": {
            "needs_background": "light"
          }
        }
      ],
      "source": [
        "# Random data points generated\n",
        "data_points = np.random.normal(0, 1, 100) \n",
        "sm.qqplot(data_points, line ='45')\n",
        "py.show()"
      ]
    },
    {
      "cell_type": "markdown",
      "id": "949bac2c",
      "metadata": {
        "id": "949bac2c"
      },
      "source": [
        "<img src=\"qq.jpeg\" alt=\"drawing\" style=\"width:600px;\"/>"
      ]
    },
    {
      "cell_type": "markdown",
      "id": "01f93698",
      "metadata": {
        "id": "01f93698"
      },
      "source": [
        "## 12) Explain Box Cox and show the implementation of the same:\n",
        "* The Box-Cox transformation is to transform the data so that its distribution is as close to a normal distribution as possible, that is, the histogram looks like a bell.\n",
        "\n",
        "* This technique has its place in feature engineering because not all species of predictive models are robust to skewed data, so it is worth using when experimenting. It probably won’t provide a spectacular improvement, although at the fine-tuning stage it can serve its purpose by improving our evaluation metric."
      ]
    },
    {
      "cell_type": "markdown",
      "id": "c200a36c",
      "metadata": {
        "id": "c200a36c"
      },
      "source": [
        "Distribution before Box Cox Transformation:"
      ]
    },
    {
      "cell_type": "code",
      "execution_count": 22,
      "id": "20e696bb",
      "metadata": {
        "colab": {
          "base_uri": "https://localhost:8080/",
          "height": 308
        },
        "id": "20e696bb",
        "outputId": "b223ccd3-8cd6-4cc4-862c-655187b03278"
      },
      "outputs": [
        {
          "output_type": "execute_result",
          "data": {
            "text/plain": [
              "<matplotlib.axes._subplots.AxesSubplot at 0x7f6dab2e3e90>"
            ]
          },
          "metadata": {},
          "execution_count": 22
        },
        {
          "output_type": "display_data",
          "data": {
            "text/plain": [
              "<Figure size 432x288 with 1 Axes>"
            ],
            "image/png": "[encoded data removed]"
          },
          "metadata": {
            "needs_background": "light"
          }
        }
      ],
      "source": [
        "#plot the distribution of data values\n",
        "sns.distplot(data['Annual_HH_Income'], hist=False, kde=True)"
      ]
    },
    {
      "cell_type": "markdown",
      "id": "9dcaf619",
      "metadata": {
        "id": "9dcaf619"
      },
      "source": [
        "Distribution after Box Cox Transformation:"
      ]
    },
    {
      "cell_type": "code",
      "execution_count": 23,
      "id": "2043d55b",
      "metadata": {
        "colab": {
          "base_uri": "https://localhost:8080/",
          "height": 282
        },
        "id": "2043d55b",
        "outputId": "12b4b4c2-06f0-4978-f15d-1f1d374f35e6"
      },
      "outputs": [
        {
          "output_type": "execute_result",
          "data": {
            "text/plain": [
              "<matplotlib.axes._subplots.AxesSubplot at 0x7f6dab387d50>"
            ]
          },
          "metadata": {},
          "execution_count": 23
        },
        {
          "output_type": "display_data",
          "data": {
            "text/plain": [
              "<Figure size 432x288 with 1 Axes>"
            ],
            "image/png": "[encoded data removed]"
          },
          "metadata": {
            "needs_background": "light"
          }
        }
      ],
      "source": [
        "#perform Box-Cox transformation on original data\n",
        "transformed_data, best_lambda = stats.boxcox(data['Annual_HH_Income']) \n",
        "\n",
        "#plot the distribution of the transformed data values\n",
        "sns.distplot(transformed_data, hist=False, kde=True)"
      ]
    },
    {
      "cell_type": "markdown",
      "id": "1f0f3b32",
      "metadata": {
        "id": "1f0f3b32"
      },
      "source": [
        "<img src=\"boxcox.png\" alt=\"drawing\" style=\"width:800px;\"/>"
      ]
    },
    {
      "cell_type": "code",
      "execution_count": 23,
      "id": "a299021c",
      "metadata": {
        "id": "a299021c"
      },
      "outputs": [],
      "source": []
    }
  ],
  "metadata": {
    "kernelspec": {
      "display_name": "Python 3 (ipykernel)",
      "language": "python",
      "name": "python3"
    },
    "language_info": {
      "codemirror_mode": {
        "name": "ipython",
        "version": 3
      },
      "file_extension": ".py",
      "mimetype": "text/x-python",
      "name": "python",
      "nbconvert_exporter": "python",
      "pygments_lexer": "ipython3",
      "version": "3.9.12"
    },
    "colab": {
      "provenance": []
    }
  },
  "nbformat": 4,
  "nbformat_minor": 5
}